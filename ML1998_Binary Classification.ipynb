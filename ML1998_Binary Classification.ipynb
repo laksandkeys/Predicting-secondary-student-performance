{
 "cells": [
  {
   "cell_type": "markdown",
   "metadata": {},
   "source": [
    "# Final Project - Binary Classifier"
   ]
  },
  {
   "cell_type": "code",
   "execution_count": 22,
   "metadata": {},
   "outputs": [
    {
     "data": {
      "text/html": [
       "<div>\n",
       "<style scoped>\n",
       "    .dataframe tbody tr th:only-of-type {\n",
       "        vertical-align: middle;\n",
       "    }\n",
       "\n",
       "    .dataframe tbody tr th {\n",
       "        vertical-align: top;\n",
       "    }\n",
       "\n",
       "    .dataframe thead th {\n",
       "        text-align: right;\n",
       "    }\n",
       "</style>\n",
       "<table border=\"1\" class=\"dataframe\">\n",
       "  <thead>\n",
       "    <tr style=\"text-align: right;\">\n",
       "      <th></th>\n",
       "      <th>school_1</th>\n",
       "      <th>school_2</th>\n",
       "      <th>sex_1</th>\n",
       "      <th>sex_2</th>\n",
       "      <th>age</th>\n",
       "      <th>address_1</th>\n",
       "      <th>address_2</th>\n",
       "      <th>famsize_1</th>\n",
       "      <th>famsize_2</th>\n",
       "      <th>Pstatus_1</th>\n",
       "      <th>...</th>\n",
       "      <th>famrel</th>\n",
       "      <th>freetime</th>\n",
       "      <th>goout</th>\n",
       "      <th>Dalc</th>\n",
       "      <th>Walc</th>\n",
       "      <th>health</th>\n",
       "      <th>absences</th>\n",
       "      <th>G1</th>\n",
       "      <th>G2</th>\n",
       "      <th>G3</th>\n",
       "    </tr>\n",
       "  </thead>\n",
       "  <tbody>\n",
       "    <tr>\n",
       "      <td>0</td>\n",
       "      <td>1.0</td>\n",
       "      <td>0.0</td>\n",
       "      <td>1.0</td>\n",
       "      <td>0.0</td>\n",
       "      <td>18.0</td>\n",
       "      <td>0.0</td>\n",
       "      <td>1.0</td>\n",
       "      <td>1.0</td>\n",
       "      <td>0.0</td>\n",
       "      <td>1.0</td>\n",
       "      <td>...</td>\n",
       "      <td>4.0</td>\n",
       "      <td>3.0</td>\n",
       "      <td>4.0</td>\n",
       "      <td>1.0</td>\n",
       "      <td>1.0</td>\n",
       "      <td>3.0</td>\n",
       "      <td>4.0</td>\n",
       "      <td>0.0</td>\n",
       "      <td>11.0</td>\n",
       "      <td>11.0</td>\n",
       "    </tr>\n",
       "    <tr>\n",
       "      <td>1</td>\n",
       "      <td>1.0</td>\n",
       "      <td>0.0</td>\n",
       "      <td>1.0</td>\n",
       "      <td>0.0</td>\n",
       "      <td>17.0</td>\n",
       "      <td>0.0</td>\n",
       "      <td>1.0</td>\n",
       "      <td>1.0</td>\n",
       "      <td>0.0</td>\n",
       "      <td>0.0</td>\n",
       "      <td>...</td>\n",
       "      <td>5.0</td>\n",
       "      <td>3.0</td>\n",
       "      <td>3.0</td>\n",
       "      <td>1.0</td>\n",
       "      <td>1.0</td>\n",
       "      <td>3.0</td>\n",
       "      <td>2.0</td>\n",
       "      <td>9.0</td>\n",
       "      <td>11.0</td>\n",
       "      <td>11.0</td>\n",
       "    </tr>\n",
       "    <tr>\n",
       "      <td>2</td>\n",
       "      <td>1.0</td>\n",
       "      <td>0.0</td>\n",
       "      <td>1.0</td>\n",
       "      <td>0.0</td>\n",
       "      <td>15.0</td>\n",
       "      <td>0.0</td>\n",
       "      <td>1.0</td>\n",
       "      <td>0.0</td>\n",
       "      <td>1.0</td>\n",
       "      <td>0.0</td>\n",
       "      <td>...</td>\n",
       "      <td>4.0</td>\n",
       "      <td>3.0</td>\n",
       "      <td>2.0</td>\n",
       "      <td>2.0</td>\n",
       "      <td>3.0</td>\n",
       "      <td>3.0</td>\n",
       "      <td>6.0</td>\n",
       "      <td>12.0</td>\n",
       "      <td>13.0</td>\n",
       "      <td>12.0</td>\n",
       "    </tr>\n",
       "    <tr>\n",
       "      <td>3</td>\n",
       "      <td>1.0</td>\n",
       "      <td>0.0</td>\n",
       "      <td>1.0</td>\n",
       "      <td>0.0</td>\n",
       "      <td>15.0</td>\n",
       "      <td>0.0</td>\n",
       "      <td>1.0</td>\n",
       "      <td>1.0</td>\n",
       "      <td>0.0</td>\n",
       "      <td>0.0</td>\n",
       "      <td>...</td>\n",
       "      <td>3.0</td>\n",
       "      <td>2.0</td>\n",
       "      <td>2.0</td>\n",
       "      <td>1.0</td>\n",
       "      <td>1.0</td>\n",
       "      <td>5.0</td>\n",
       "      <td>0.0</td>\n",
       "      <td>14.0</td>\n",
       "      <td>14.0</td>\n",
       "      <td>14.0</td>\n",
       "    </tr>\n",
       "    <tr>\n",
       "      <td>4</td>\n",
       "      <td>1.0</td>\n",
       "      <td>0.0</td>\n",
       "      <td>1.0</td>\n",
       "      <td>0.0</td>\n",
       "      <td>16.0</td>\n",
       "      <td>0.0</td>\n",
       "      <td>1.0</td>\n",
       "      <td>1.0</td>\n",
       "      <td>0.0</td>\n",
       "      <td>0.0</td>\n",
       "      <td>...</td>\n",
       "      <td>4.0</td>\n",
       "      <td>3.0</td>\n",
       "      <td>2.0</td>\n",
       "      <td>1.0</td>\n",
       "      <td>2.0</td>\n",
       "      <td>5.0</td>\n",
       "      <td>0.0</td>\n",
       "      <td>11.0</td>\n",
       "      <td>13.0</td>\n",
       "      <td>13.0</td>\n",
       "    </tr>\n",
       "  </tbody>\n",
       "</table>\n",
       "<p>5 rows × 59 columns</p>\n",
       "</div>"
      ],
      "text/plain": [
       "   school_1  school_2  sex_1  sex_2   age  address_1  address_2  famsize_1  \\\n",
       "0       1.0       0.0    1.0    0.0  18.0        0.0        1.0        1.0   \n",
       "1       1.0       0.0    1.0    0.0  17.0        0.0        1.0        1.0   \n",
       "2       1.0       0.0    1.0    0.0  15.0        0.0        1.0        0.0   \n",
       "3       1.0       0.0    1.0    0.0  15.0        0.0        1.0        1.0   \n",
       "4       1.0       0.0    1.0    0.0  16.0        0.0        1.0        1.0   \n",
       "\n",
       "   famsize_2  Pstatus_1  ...  famrel  freetime  goout  Dalc  Walc  health  \\\n",
       "0        0.0        1.0  ...     4.0       3.0    4.0   1.0   1.0     3.0   \n",
       "1        0.0        0.0  ...     5.0       3.0    3.0   1.0   1.0     3.0   \n",
       "2        1.0        0.0  ...     4.0       3.0    2.0   2.0   3.0     3.0   \n",
       "3        0.0        0.0  ...     3.0       2.0    2.0   1.0   1.0     5.0   \n",
       "4        0.0        0.0  ...     4.0       3.0    2.0   1.0   2.0     5.0   \n",
       "\n",
       "   absences    G1    G2    G3  \n",
       "0       4.0   0.0  11.0  11.0  \n",
       "1       2.0   9.0  11.0  11.0  \n",
       "2       6.0  12.0  13.0  12.0  \n",
       "3       0.0  14.0  14.0  14.0  \n",
       "4       0.0  11.0  13.0  13.0  \n",
       "\n",
       "[5 rows x 59 columns]"
      ]
     },
     "execution_count": 22,
     "metadata": {},
     "output_type": "execute_result"
    }
   ],
   "source": [
    "import pandas as pd\n",
    "df = pd.read_csv('/Users/curtisherges/Documents/UTH_Courses/ML/school_grades_scikit_onehot_dataset.csv')\n",
    "df_labels = pd.read_excel('/Users/curtisherges/Documents/UTH_Courses/ML/Label_Vals.xlsx')\n",
    "df.head()\n",
    "#df.describe()"
   ]
  },
  {
   "cell_type": "code",
   "execution_count": 2,
   "metadata": {},
   "outputs": [],
   "source": [
    "from sklearn.model_selection import train_test_split\n",
    "\n",
    "df.loc[df['G3'] >= 10, 'G3_Pass'] = 1\n",
    "df.loc[df['G3'] < 10, 'G3_Pass'] = 0"
   ]
  },
  {
   "cell_type": "markdown",
   "metadata": {},
   "source": [
    "### Random Forest -- Binary Classifier"
   ]
  },
  {
   "cell_type": "code",
   "execution_count": 3,
   "metadata": {},
   "outputs": [
    {
     "name": "stdout",
     "output_type": "stream",
     "text": [
      "Parameter grid:\n",
      "{'n_estimators': [1, 2, 3, 4, 5, 6, 7, 8, 9, 10, 11, 12], 'max_features': [1, 2, 3, 4, 5, 6, 7, 8]}\n",
      "Test set score: 0.95\n",
      "Best parameters: {'max_features': 8, 'n_estimators': 12}\n",
      "Best cross-validation score: 0.93\n",
      "Best estimator:\n",
      "RandomForestClassifier(bootstrap=True, class_weight=None, criterion='gini',\n",
      "                       max_depth=None, max_features=8, max_leaf_nodes=None,\n",
      "                       min_impurity_decrease=0.0, min_impurity_split=None,\n",
      "                       min_samples_leaf=1, min_samples_split=2,\n",
      "                       min_weight_fraction_leaf=0.0, n_estimators=12,\n",
      "                       n_jobs=None, oob_score=False, random_state=None,\n",
      "                       verbose=0, warm_start=False)\n"
     ]
    },
    {
     "name": "stderr",
     "output_type": "stream",
     "text": [
      "/opt/anaconda3/lib/python3.7/site-packages/sklearn/model_selection/_search.py:814: DeprecationWarning: The default of the `iid` parameter will change from True to False in version 0.22 and will be removed in 0.24. This will change numeric results when test-set sizes are unequal.\n",
      "  DeprecationWarning)\n"
     ]
    }
   ],
   "source": [
    "## Split grades into training and testing set\n",
    "Xw = df.drop('G3', axis=1)\n",
    "Xw = Xw.drop('G3_Pass', axis=1)\n",
    "\n",
    "yw = df['G3_Pass']\n",
    "\n",
    "# Train and testing split\n",
    "X_train, X_test, y_train, y_test = train_test_split(Xw, yw, \n",
    "                                                    random_state=66)\n",
    "\n",
    "#### Set features to search over for RF\n",
    "param_grid = {'n_estimators': [1,2,3,4,5,6,7,8,9,10,11,12], 'max_features': [1,2,3,4,5,6,7,8]}\n",
    "print(\"Parameter grid:\\n{}\".format(param_grid))\n",
    "\n",
    "from sklearn.model_selection import GridSearchCV\n",
    "from sklearn.ensemble import RandomForestClassifier\n",
    "\n",
    "#instantiate the GridSearchCV class with the model (SVC), the parameter grid to search (param_grid), \n",
    "#and the cross-validation strategy we want to use (five-fold stratified cross-validation)\n",
    "grid_search = GridSearchCV(RandomForestClassifier(), param_grid, cv=5, return_train_score=True)\n",
    "\n",
    "# fit the model\n",
    "grid_search.fit(X_train, y_train) \n",
    "\n",
    "#score on test set    \n",
    "print(\"Test set score: {:.2f}\".format(grid_search.score(X_test, y_test)))\n",
    "\n",
    "#best parameters that were found\n",
    "print(\"Best parameters: {}\".format(grid_search.best_params_))\n",
    "#best cross-validation accuracy (the mean accuracy over the different splits for this parameter setting)\n",
    "print(\"Best cross-validation score: {:.2f}\".format(grid_search.best_score_))\n",
    "#access the actual model that was found (look at coefficients or feature importances)\n",
    "print(\"Best estimator:\\n{}\".format(grid_search.best_estimator_))"
   ]
  },
  {
   "cell_type": "code",
   "execution_count": 5,
   "metadata": {},
   "outputs": [
    {
     "data": {
      "text/plain": [
       "Text(0.5, 1.0, 'Feature Importance Version A')"
      ]
     },
     "execution_count": 5,
     "metadata": {},
     "output_type": "execute_result"
    },
    {
     "data": {
      "image/png": "[encoded data removed]",
      "text/plain": [
       "<Figure size 432x288 with 1 Axes>"
      ]
     },
     "metadata": {
      "needs_background": "light"
     },
     "output_type": "display_data"
    }
   ],
   "source": [
    "# Feature Importance\n",
    "import matplotlib.pyplot as plt\n",
    "\n",
    "feats = {} # a dict to hold feature_name: feature_importance\n",
    "for feature, importance in zip(X_train.columns, grid_search.best_estimator_.feature_importances_):\n",
    "    feats[feature] = importance #add the name/value pair\n",
    "\n",
    "importances = pd.DataFrame.from_dict(feats, orient='index').rename(columns={0: 'Gini-importance'}).nlargest(5, 'Gini-importance')\n",
    "\n",
    "importances.sort_values(by='Gini-importance').plot(kind='bar', rot=45)\n",
    "plt.title('Feature Importance Version A')"
   ]
  },
  {
   "cell_type": "code",
   "execution_count": 6,
   "metadata": {},
   "outputs": [
    {
     "name": "stdout",
     "output_type": "stream",
     "text": [
      "Parameter grid:\n",
      "{'n_estimators': [1, 2, 3, 4, 5, 6, 7, 8, 9, 10, 11, 12], 'max_features': [1, 2, 3, 4, 5, 6, 7, 8]}\n",
      "Test set score: 0.91\n",
      "Best parameters: {'max_features': 8, 'n_estimators': 11}\n",
      "Best cross-validation score: 0.90\n",
      "Best estimator:\n",
      "RandomForestClassifier(bootstrap=True, class_weight=None, criterion='gini',\n",
      "                       max_depth=None, max_features=8, max_leaf_nodes=None,\n",
      "                       min_impurity_decrease=0.0, min_impurity_split=None,\n",
      "                       min_samples_leaf=1, min_samples_split=2,\n",
      "                       min_weight_fraction_leaf=0.0, n_estimators=11,\n",
      "                       n_jobs=None, oob_score=False, random_state=None,\n",
      "                       verbose=0, warm_start=False)\n"
     ]
    },
    {
     "name": "stderr",
     "output_type": "stream",
     "text": [
      "/opt/anaconda3/lib/python3.7/site-packages/sklearn/model_selection/_search.py:814: DeprecationWarning: The default of the `iid` parameter will change from True to False in version 0.22 and will be removed in 0.24. This will change numeric results when test-set sizes are unequal.\n",
      "  DeprecationWarning)\n"
     ]
    }
   ],
   "source": [
    "# Try version with G2 removed\n",
    "Xw = df.drop('G3', axis=1)\n",
    "Xw = Xw.drop('G2', axis=1)\n",
    "Xw = Xw.drop('G3_Pass', axis=1)\n",
    "\n",
    "yw = df['G3_Pass']\n",
    "\n",
    "# Train and testing split\n",
    "X_train, X_test, y_train, y_test = train_test_split(Xw, yw, \n",
    "                                                    random_state=66)\n",
    "\n",
    "#### Set features to search over for RF\n",
    "param_grid = {'n_estimators': [1,2,3,4,5,6,7,8,9,10,11,12], 'max_features': [1,2,3,4,5,6,7,8]}\n",
    "print(\"Parameter grid:\\n{}\".format(param_grid))\n",
    "\n",
    "from sklearn.model_selection import GridSearchCV\n",
    "from sklearn.ensemble import RandomForestClassifier\n",
    "\n",
    "#instantiate the GridSearchCV class with the model (SVC), the parameter grid to search (param_grid), \n",
    "#and the cross-validation strategy we want to use (five-fold stratified cross-validation)\n",
    "grid_search = GridSearchCV(RandomForestClassifier(), param_grid, cv=5, return_train_score=True)\n",
    "\n",
    "# fit the model\n",
    "grid_search.fit(X_train, y_train) \n",
    "\n",
    "#score on test set    \n",
    "print(\"Test set score: {:.2f}\".format(grid_search.score(X_test, y_test)))\n",
    "\n",
    "#best parameters that were found\n",
    "print(\"Best parameters: {}\".format(grid_search.best_params_))\n",
    "#best cross-validation accuracy (the mean accuracy over the different splits for this parameter setting)\n",
    "print(\"Best cross-validation score: {:.2f}\".format(grid_search.best_score_))\n",
    "#access the actual model that was found (look at coefficients or feature importances)\n",
    "print(\"Best estimator:\\n{}\".format(grid_search.best_estimator_))"
   ]
  },
  {
   "cell_type": "code",
   "execution_count": 7,
   "metadata": {},
   "outputs": [
    {
     "data": {
      "text/plain": [
       "Text(0.5, 1.0, 'Feature Importance Version B')"
      ]
     },
     "execution_count": 7,
     "metadata": {},
     "output_type": "execute_result"
    },
    {
     "data": {
      "image/png": "[encoded data removed]",
      "text/plain": [
       "<Figure size 432x288 with 1 Axes>"
      ]
     },
     "metadata": {
      "needs_background": "light"
     },
     "output_type": "display_data"
    }
   ],
   "source": [
    "# Feature Importance\n",
    "feats = {} # a dict to hold feature_name: feature_importance\n",
    "for feature, importance in zip(X_train.columns, grid_search.best_estimator_.feature_importances_):\n",
    "    feats[feature] = importance #add the name/value pair\n",
    "\n",
    "importances = pd.DataFrame.from_dict(feats, orient='index').rename(columns={0: 'Gini-importance'}).nlargest(5, 'Gini-importance')\n",
    "\n",
    "importances.sort_values(by='Gini-importance').plot(kind='bar', rot=45)\n",
    "plt.title('Feature Importance Version B')"
   ]
  },
  {
   "cell_type": "code",
   "execution_count": 8,
   "metadata": {},
   "outputs": [
    {
     "name": "stdout",
     "output_type": "stream",
     "text": [
      "Parameter grid:\n",
      "{'n_estimators': [1, 2, 3, 4, 5, 6, 7, 8, 9, 10, 11, 12], 'max_features': [1, 2, 3, 4, 5, 6, 7, 8]}\n",
      "Test set score: 0.88\n",
      "Best parameters: {'max_features': 7, 'n_estimators': 5}\n",
      "Best cross-validation score: 0.85\n",
      "Best estimator:\n",
      "RandomForestClassifier(bootstrap=True, class_weight=None, criterion='gini',\n",
      "                       max_depth=None, max_features=7, max_leaf_nodes=None,\n",
      "                       min_impurity_decrease=0.0, min_impurity_split=None,\n",
      "                       min_samples_leaf=1, min_samples_split=2,\n",
      "                       min_weight_fraction_leaf=0.0, n_estimators=5,\n",
      "                       n_jobs=None, oob_score=False, random_state=None,\n",
      "                       verbose=0, warm_start=False)\n"
     ]
    },
    {
     "name": "stderr",
     "output_type": "stream",
     "text": [
      "/opt/anaconda3/lib/python3.7/site-packages/sklearn/model_selection/_search.py:814: DeprecationWarning: The default of the `iid` parameter will change from True to False in version 0.22 and will be removed in 0.24. This will change numeric results when test-set sizes are unequal.\n",
      "  DeprecationWarning)\n"
     ]
    }
   ],
   "source": [
    "# Try version with G1 AND G2 removed\n",
    "Xw = df.drop('G3', axis=1)\n",
    "Xw = Xw.drop('G2', axis=1)\n",
    "Xw = Xw.drop('G1', axis=1)\n",
    "Xw = Xw.drop('G3_Pass', axis=1)\n",
    "\n",
    "yw = df['G3_Pass']\n",
    "\n",
    "# Train and testing split\n",
    "X_train, X_test, y_train, y_test = train_test_split(Xw, yw, \n",
    "                                                    random_state=66)\n",
    "\n",
    "#### Set features to search over for RF\n",
    "param_grid = {'n_estimators': [1,2,3,4,5,6,7,8,9,10,11,12], 'max_features': [1,2,3,4,5,6,7,8]}\n",
    "print(\"Parameter grid:\\n{}\".format(param_grid))\n",
    "\n",
    "from sklearn.model_selection import GridSearchCV\n",
    "from sklearn.ensemble import RandomForestClassifier\n",
    "\n",
    "#instantiate the GridSearchCV class with the model (SVC), the parameter grid to search (param_grid), \n",
    "#and the cross-validation strategy we want to use (five-fold stratified cross-validation)\n",
    "grid_search = GridSearchCV(RandomForestClassifier(), param_grid, cv=5, return_train_score=True)\n",
    "\n",
    "# fit the model\n",
    "grid_search.fit(X_train, y_train) \n",
    "\n",
    "#score on test set    \n",
    "print(\"Test set score: {:.2f}\".format(grid_search.score(X_test, y_test)))\n",
    "\n",
    "#best parameters that were found\n",
    "print(\"Best parameters: {}\".format(grid_search.best_params_))\n",
    "#best cross-validation accuracy (the mean accuracy over the different splits for this parameter setting)\n",
    "print(\"Best cross-validation score: {:.2f}\".format(grid_search.best_score_))\n",
    "#access the actual model that was found (look at coefficients or feature importances)\n",
    "print(\"Best estimator:\\n{}\".format(grid_search.best_estimator_))"
   ]
  },
  {
   "cell_type": "code",
   "execution_count": 9,
   "metadata": {},
   "outputs": [
    {
     "data": {
      "text/plain": [
       "Text(0.5, 1.0, 'Feature Importance Version C')"
      ]
     },
     "execution_count": 9,
     "metadata": {},
     "output_type": "execute_result"
    },
    {
     "data": {
      "image/png": "[encoded data removed]",
      "text/plain": [
       "<Figure size 432x288 with 1 Axes>"
      ]
     },
     "metadata": {
      "needs_background": "light"
     },
     "output_type": "display_data"
    }
   ],
   "source": [
    "# Feature Importance\n",
    "feats = {} # a dict to hold feature_name: feature_importance\n",
    "for feature, importance in zip(X_train.columns, grid_search.best_estimator_.feature_importances_):\n",
    "    feats[feature] = importance #add the name/value pair\n",
    "\n",
    "importances = pd.DataFrame.from_dict(feats, orient='index').rename(columns={0: 'Gini-importance'}).nlargest(5, 'Gini-importance')\n",
    "\n",
    "importances.sort_values(by='Gini-importance').plot(kind='bar', rot=45)\n",
    "plt.title('Feature Importance Version C')"
   ]
  },
  {
   "cell_type": "code",
   "execution_count": 11,
   "metadata": {},
   "outputs": [
    {
     "data": {
      "text/plain": [
       "<matplotlib.collections.PolyCollection at 0x1a29f60b50>"
      ]
     },
     "execution_count": 11,
     "metadata": {},
     "output_type": "execute_result"
    },
    {
     "data": {
      "image/png": "[encoded data removed]",
      "text/plain": [
       "<Figure size 432x288 with 1 Axes>"
      ]
     },
     "metadata": {
      "needs_background": "light"
     },
     "output_type": "display_data"
    }
   ],
   "source": [
    "#### Visualize the best hyperparameter values after grid search for the final dataset prediction \n",
    "#### (the one that has G2 and G1 removed)\n",
    "import pandas as pd\n",
    "from IPython.display import display\n",
    "import mglearn\n",
    "import numpy as np\n",
    "\n",
    "# convert to Dataframe\n",
    "results = pd.DataFrame(grid_search.cv_results_)\n",
    "\n",
    "# visualize as a heatmap\n",
    "scores = np.array(results.mean_test_score).reshape(8, 12)\n",
    "# plot the mean cross-validation scores as a function of n_est and max_features\n",
    "mglearn.tools.heatmap(scores, xlabel='n_estimators', xticklabels=param_grid['n_estimators'],\n",
    "                      ylabel='max_features', yticklabels=param_grid['max_features'], cmap=\"viridis\")"
   ]
  },
  {
   "cell_type": "code",
   "execution_count": 12,
   "metadata": {},
   "outputs": [
    {
     "name": "stdout",
     "output_type": "stream",
     "text": [
      "Unique predicted labels: [1.]\n",
      "Test score: 0.89\n",
      "dummy score: 0.75\n",
      "              precision    recall  f1-score   support\n",
      "\n",
      "         0.0       0.00      0.00      0.00        18\n",
      "         1.0       0.89      1.00      0.94       145\n",
      "\n",
      "    accuracy                           0.89       163\n",
      "   macro avg       0.44      0.50      0.47       163\n",
      "weighted avg       0.79      0.89      0.84       163\n",
      "\n",
      "              precision    recall  f1-score   support\n",
      "\n",
      "         0.0       0.04      0.06      0.04        18\n",
      "         1.0       0.88      0.82      0.85       145\n",
      "\n",
      "    accuracy                           0.74       163\n",
      "   macro avg       0.46      0.44      0.45       163\n",
      "weighted avg       0.78      0.74      0.76       163\n",
      "\n",
      "              precision    recall  f1-score   support\n",
      "\n",
      "         0.0       0.38      0.17      0.23        18\n",
      "         1.0       0.90      0.97      0.93       145\n",
      "\n",
      "    accuracy                           0.88       163\n",
      "   macro avg       0.64      0.57      0.58       163\n",
      "weighted avg       0.84      0.88      0.86       163\n",
      "\n",
      "Accuracy: 0.877\n"
     ]
    },
    {
     "name": "stderr",
     "output_type": "stream",
     "text": [
      "/opt/anaconda3/lib/python3.7/site-packages/sklearn/metrics/classification.py:1437: UndefinedMetricWarning: Precision and F-score are ill-defined and being set to 0.0 in labels with no predicted samples.\n",
      "  'precision', 'predicted', average, warn_for)\n"
     ]
    },
    {
     "data": {
      "image/png": "[encoded data removed]",
      "text/plain": [
       "<Figure size 432x288 with 1 Axes>"
      ]
     },
     "metadata": {
      "needs_background": "light"
     },
     "output_type": "display_data"
    }
   ],
   "source": [
    "##### Show the precision, recall, and f1-score\n",
    "from sklearn.dummy import DummyClassifier\n",
    "from sklearn.metrics import confusion_matrix\n",
    "\n",
    "# Create dummy variables for comparison to RF classifier\n",
    "dummy_majority = DummyClassifier(strategy='most_frequent').fit(X_train, y_train)\n",
    "pred_most_frequent = dummy_majority.predict(X_test)\n",
    "print(\"Unique predicted labels: {}\".format(np.unique(pred_most_frequent)))\n",
    "print(\"Test score: {:.2f}\".format(dummy_majority.score(X_test, y_test)))\n",
    "\n",
    "dummy = DummyClassifier().fit(X_train, y_train)\n",
    "pred_dummy = dummy.predict(X_test)\n",
    "print(\"dummy score: {:.2f}\".format(dummy.score(X_test, y_test)))\n",
    "\n",
    "# Predicted values on original testing set\n",
    "pred_RF = grid_search.predict(X_test)\n",
    "\n",
    "from sklearn.metrics import f1_score\n",
    "\n",
    "#comprehensive summary of precision, recall, and f1-score for most frequent, dummy and svc\n",
    "from sklearn.metrics import classification_report\n",
    "print(classification_report(y_test, pred_most_frequent))\n",
    "print(classification_report(y_test, pred_dummy))\n",
    "print(classification_report(y_test, pred_RF))\n",
    "\n",
    "\n",
    "from sklearn.metrics import accuracy_score\n",
    "\n",
    "pred = pred_RF\n",
    "print(\"Accuracy: {:.3f}\".format(accuracy_score(y_test, pred)))\n",
    "\n",
    "#Confusion matrix for the 10-digit classification task\n",
    "scores_image = mglearn.tools.heatmap(\n",
    "    confusion_matrix(y_test, pred), xlabel='Predicted label',\n",
    "    ylabel='True label', xticklabels=['Fail','Pass'],\n",
    "    yticklabels=['Fail','Pass'], cmap=plt.cm.gray_r, fmt=\"%d\")\n",
    "plt.title(\"Confusion matrix\")\n",
    "plt.gca().invert_yaxis()"
   ]
  },
  {
   "cell_type": "markdown",
   "metadata": {},
   "source": [
    "### Logistic Regression with L2 Regularization penalty -- Binary Classification"
   ]
  },
  {
   "cell_type": "code",
   "execution_count": 13,
   "metadata": {},
   "outputs": [
    {
     "name": "stdout",
     "output_type": "stream",
     "text": [
      "Parameter grid:\n",
      "{'C': [0.01, 0.1, 1, 5, 10]}\n",
      "Test set score: 0.94\n",
      "Best parameters: {'C': 0.1}\n",
      "Best cross-validation score: 0.93\n",
      "Best estimator:\n",
      "LogisticRegression(C=0.1, class_weight=None, dual=False, fit_intercept=True,\n",
      "                   intercept_scaling=1, l1_ratio=None, max_iter=1000,\n",
      "                   multi_class='ovr', n_jobs=None, penalty='l2',\n",
      "                   random_state=None, solver='lbfgs', tol=0.0001, verbose=0,\n",
      "                   warm_start=False)\n"
     ]
    }
   ],
   "source": [
    "### Version A with G1 and G2 included\n",
    "## Split grades into training and testing set\n",
    "Xw = df.drop('G3', axis=1)\n",
    "Xw = Xw.drop('G3_Pass', axis=1)\n",
    "yw = df['G3_Pass']\n",
    "\n",
    "# Train and testing split\n",
    "X_train, X_test, y_train, y_test = train_test_split(Xw, yw, \n",
    "                                                    random_state=66)\n",
    "\n",
    "## Try a different Model: Import packages for L2 penalized logistic regresssion\n",
    "\n",
    "from sklearn.linear_model import LogisticRegression\n",
    "from sklearn.model_selection import GridSearchCV\n",
    "\n",
    "# Create grid of C values\n",
    "param_grid = {'C': [ 0.01, 0.1, 1, 5, 10]}\n",
    "print(\"Parameter grid:\\n{}\".format(param_grid))\n",
    "\n",
    "log_reg = LogisticRegression(penalty=\"l2\",multi_class = 'ovr', solver = \"lbfgs\", max_iter = 1000)\n",
    "\n",
    "#instantiate the GridSearchCV class with the model (SVC), the parameter grid to search (param_grid),\n",
    "#and the cross-validation strategy we want to use (five-fold stratified cross-validation)\n",
    "grid_search = GridSearchCV(log_reg, param_grid, cv=5, return_train_score=True)\n",
    "# Fit the model\n",
    "grid_search.fit(X_train, y_train)\n",
    "\n",
    "#score on test set\n",
    "print(\"Test set score: {:.2f}\".format(grid_search.score(X_test, y_test)))\n",
    "\n",
    "#best parameters that were found\n",
    "print(\"Best parameters: {}\".format(grid_search.best_params_))\n",
    "#best cross-validation accuracy (the mean accuracy over the different splits for this parameter setting)\n",
    "print(\"Best cross-validation score: {:.2f}\".format(grid_search.best_score_))\n",
    "#access the actual model that was found (look at coefficients or feature importances)\n",
    "print(\"Best estimator:\\n{}\".format(grid_search.best_estimator_))"
   ]
  },
  {
   "cell_type": "code",
   "execution_count": 14,
   "metadata": {},
   "outputs": [
    {
     "data": {
      "text/plain": [
       "<matplotlib.axes._subplots.AxesSubplot at 0x1c2ab742d0>"
      ]
     },
     "execution_count": 14,
     "metadata": {},
     "output_type": "execute_result"
    },
    {
     "data": {
      "image/png": "[encoded data removed]",
      "text/plain": [
       "<Figure size 432x288 with 1 Axes>"
      ]
     },
     "metadata": {
      "needs_background": "light"
     },
     "output_type": "display_data"
    }
   ],
   "source": [
    "feats = {} # a dict to hold feature_name: feature_importance\n",
    "for feature, importance in zip(X_train.columns, grid_search.best_estimator_.coef_[0]):\n",
    "    feats[feature] = importance #add the name/value pair\n",
    "\n",
    "pd.DataFrame(feats,index=['Coefficients']).transpose().nlargest(5, 'Coefficients').plot(kind='bar', rot=45)\n",
    "#feats.plot(kind='bar', rot=45)"
   ]
  },
  {
   "cell_type": "code",
   "execution_count": 15,
   "metadata": {},
   "outputs": [
    {
     "name": "stdout",
     "output_type": "stream",
     "text": [
      "Parameter grid:\n",
      "{'C': [0.01, 0.1, 1, 5, 10]}\n",
      "Test set score: 0.91\n",
      "Best parameters: {'C': 0.1}\n",
      "Best cross-validation score: 0.90\n",
      "Best estimator:\n",
      "LogisticRegression(C=0.1, class_weight=None, dual=False, fit_intercept=True,\n",
      "                   intercept_scaling=1, l1_ratio=None, max_iter=1000,\n",
      "                   multi_class='ovr', n_jobs=None, penalty='l2',\n",
      "                   random_state=None, solver='lbfgs', tol=0.0001, verbose=0,\n",
      "                   warm_start=False)\n"
     ]
    }
   ],
   "source": [
    "### Version B with G2 removed\n",
    "## Split grades into training and testing set\n",
    "Xw = df.drop('G3', axis=1)\n",
    "Xw = Xw.drop('G2', axis=1)\n",
    "Xw = Xw.drop('G3_Pass', axis=1)\n",
    "\n",
    "yw = df['G3_Pass']\n",
    "\n",
    "# Train and testing split\n",
    "X_train, X_test, y_train, y_test = train_test_split(Xw, yw, \n",
    "                                                    random_state=66)\n",
    "\n",
    "## Try a different Model: Import packages for L2 penalized logistic regresssion\n",
    "\n",
    "from sklearn.linear_model import LogisticRegression\n",
    "from sklearn.model_selection import GridSearchCV\n",
    "\n",
    "# Create grid of C values\n",
    "param_grid = {'C': [ 0.01, 0.1, 1, 5, 10]}\n",
    "print(\"Parameter grid:\\n{}\".format(param_grid))\n",
    "\n",
    "log_reg = LogisticRegression(penalty=\"l2\",multi_class = 'ovr', solver = \"lbfgs\", max_iter = 1000)\n",
    "\n",
    "#instantiate the GridSearchCV class with the model (SVC), the parameter grid to search (param_grid),\n",
    "#and the cross-validation strategy we want to use (five-fold stratified cross-validation)\n",
    "grid_search = GridSearchCV(log_reg, param_grid, cv=5, return_train_score=True)\n",
    "# Fit the model\n",
    "grid_search.fit(X_train, y_train)\n",
    "\n",
    "#score on test set\n",
    "print(\"Test set score: {:.2f}\".format(grid_search.score(X_test, y_test)))\n",
    "\n",
    "#best parameters that were found\n",
    "print(\"Best parameters: {}\".format(grid_search.best_params_))\n",
    "#best cross-validation accuracy (the mean accuracy over the different splits for this parameter setting)\n",
    "print(\"Best cross-validation score: {:.2f}\".format(grid_search.best_score_))\n",
    "#access the actual model that was found (look at coefficients or feature importances)\n",
    "print(\"Best estimator:\\n{}\".format(grid_search.best_estimator_))"
   ]
  },
  {
   "cell_type": "code",
   "execution_count": 16,
   "metadata": {},
   "outputs": [
    {
     "data": {
      "text/plain": [
       "<matplotlib.axes._subplots.AxesSubplot at 0x1c2ad24510>"
      ]
     },
     "execution_count": 16,
     "metadata": {},
     "output_type": "execute_result"
    },
    {
     "data": {
      "image/png": "[encoded data removed]",
      "text/plain": [
       "<Figure size 432x288 with 1 Axes>"
      ]
     },
     "metadata": {
      "needs_background": "light"
     },
     "output_type": "display_data"
    }
   ],
   "source": [
    "feats = {} # a dict to hold feature_name: feature_importance\n",
    "for feature, importance in zip(X_train.columns, grid_search.best_estimator_.coef_[0]):\n",
    "    feats[feature] = importance #add the name/value pair\n",
    "\n",
    "pd.DataFrame(feats,index=['Coefficients']).transpose().nlargest(5, 'Coefficients').plot(kind='bar', rot=45)\n",
    "#feats.plot(kind='bar', rot=45)"
   ]
  },
  {
   "cell_type": "code",
   "execution_count": 17,
   "metadata": {},
   "outputs": [
    {
     "name": "stdout",
     "output_type": "stream",
     "text": [
      "Parameter grid:\n",
      "{'C': [0.01, 0.1, 1, 5, 10]}\n",
      "Test set score: 0.90\n",
      "Best parameters: {'C': 0.01}\n",
      "Best cross-validation score: 0.83\n",
      "Best estimator:\n",
      "LogisticRegression(C=0.01, class_weight=None, dual=False, fit_intercept=True,\n",
      "                   intercept_scaling=1, l1_ratio=None, max_iter=1000,\n",
      "                   multi_class='ovr', n_jobs=None, penalty='l2',\n",
      "                   random_state=None, solver='lbfgs', tol=0.0001, verbose=0,\n",
      "                   warm_start=False)\n"
     ]
    }
   ],
   "source": [
    "### Version C with G1 and G2 removed\n",
    "## Split grades into training and testing set\n",
    "Xw = df.drop('G3', axis=1)\n",
    "Xw = Xw.drop('G2', axis=1)\n",
    "Xw = Xw.drop('G1', axis=1)\n",
    "Xw = Xw.drop('G3_Pass', axis=1)\n",
    "\n",
    "yw = df['G3_Pass']\n",
    "\n",
    "# Train and testing split\n",
    "X_train, X_test, y_train, y_test = train_test_split(Xw, yw, \n",
    "                                                    random_state=66)\n",
    "\n",
    "## Try a different Model: Import packages for L2 penalized logistic regresssion\n",
    "\n",
    "from sklearn.linear_model import LogisticRegression\n",
    "from sklearn.model_selection import GridSearchCV\n",
    "\n",
    "# Create grid of C values\n",
    "param_grid = {'C': [ 0.01, 0.1, 1, 5, 10]}\n",
    "print(\"Parameter grid:\\n{}\".format(param_grid))\n",
    "\n",
    "log_reg = LogisticRegression(penalty=\"l2\",multi_class = 'ovr', solver = \"lbfgs\", max_iter = 1000)\n",
    "\n",
    "#instantiate the GridSearchCV class with the model (SVC), the parameter grid to search (param_grid),\n",
    "#and the cross-validation strategy we want to use (five-fold stratified cross-validation)\n",
    "grid_search = GridSearchCV(log_reg, param_grid, cv=5, return_train_score=True)\n",
    "# Fit the model\n",
    "grid_search.fit(X_train, y_train)\n",
    "\n",
    "#score on test set\n",
    "print(\"Test set score: {:.2f}\".format(grid_search.score(X_test, y_test)))\n",
    "\n",
    "#best parameters that were found\n",
    "print(\"Best parameters: {}\".format(grid_search.best_params_))\n",
    "#best cross-validation accuracy (the mean accuracy over the different splits for this parameter setting)\n",
    "print(\"Best cross-validation score: {:.2f}\".format(grid_search.best_score_))\n",
    "#access the actual model that was found (look at coefficients or feature importances)\n",
    "print(\"Best estimator:\\n{}\".format(grid_search.best_estimator_))"
   ]
  },
  {
   "cell_type": "code",
   "execution_count": 18,
   "metadata": {
    "scrolled": true
   },
   "outputs": [
    {
     "data": {
      "text/plain": [
       "<matplotlib.axes._subplots.AxesSubplot at 0x1c2ab49410>"
      ]
     },
     "execution_count": 18,
     "metadata": {},
     "output_type": "execute_result"
    },
    {
     "data": {
      "image/png": "[encoded data removed]",
      "text/plain": [
       "<Figure size 432x288 with 1 Axes>"
      ]
     },
     "metadata": {
      "needs_background": "light"
     },
     "output_type": "display_data"
    }
   ],
   "source": [
    "feats = {} # a dict to hold feature_name: feature_importance\n",
    "for feature, importance in zip(X_train.columns, grid_search.best_estimator_.coef_[0]):\n",
    "    feats[feature] = importance #add the name/value pair\n",
    "\n",
    "pd.DataFrame(feats,index=['Coefficients']).transpose().nlargest(5, 'Coefficients').plot(kind='bar', rot=45)\n",
    "#feats.plot(kind='bar', rot=45)"
   ]
  },
  {
   "cell_type": "code",
   "execution_count": 19,
   "metadata": {},
   "outputs": [
    {
     "name": "stdout",
     "output_type": "stream",
     "text": [
      "Unique predicted labels: [1.]\n",
      "Test score: 0.89\n",
      "dummy score: 0.70\n",
      "              precision    recall  f1-score   support\n",
      "\n",
      "         0.0       0.00      0.00      0.00        18\n",
      "         1.0       0.89      1.00      0.94       145\n",
      "\n",
      "    accuracy                           0.89       163\n",
      "   macro avg       0.44      0.50      0.47       163\n",
      "weighted avg       0.79      0.89      0.84       163\n",
      "\n",
      "              precision    recall  f1-score   support\n",
      "\n",
      "         0.0       0.04      0.06      0.04        18\n",
      "         1.0       0.88      0.82      0.85       145\n",
      "\n",
      "    accuracy                           0.74       163\n",
      "   macro avg       0.46      0.44      0.45       163\n",
      "weighted avg       0.78      0.74      0.76       163\n",
      "\n",
      "              precision    recall  f1-score   support\n",
      "\n",
      "         0.0       1.00      0.06      0.11        18\n",
      "         1.0       0.90      1.00      0.94       145\n",
      "\n",
      "    accuracy                           0.90       163\n",
      "   macro avg       0.95      0.53      0.52       163\n",
      "weighted avg       0.91      0.90      0.85       163\n",
      "\n",
      "Accuracy: 0.896\n"
     ]
    },
    {
     "name": "stderr",
     "output_type": "stream",
     "text": [
      "/opt/anaconda3/lib/python3.7/site-packages/sklearn/metrics/classification.py:1437: UndefinedMetricWarning: Precision and F-score are ill-defined and being set to 0.0 in labels with no predicted samples.\n",
      "  'precision', 'predicted', average, warn_for)\n"
     ]
    },
    {
     "data": {
      "image/png": "[encoded data removed]",
      "text/plain": [
       "<Figure size 432x288 with 1 Axes>"
      ]
     },
     "metadata": {
      "needs_background": "light"
     },
     "output_type": "display_data"
    }
   ],
   "source": [
    "##### Show the precision, recall, and f1-score\n",
    "import matplotlib.pyplot as plt\n",
    "from sklearn.dummy import DummyClassifier\n",
    "from sklearn.metrics import confusion_matrix\n",
    "\n",
    "# Create dummy variables for comparison to RF classifier\n",
    "dummy_majority = DummyClassifier(strategy='most_frequent').fit(X_train, y_train)\n",
    "pred_most_frequent = dummy_majority.predict(X_test)\n",
    "print(\"Unique predicted labels: {}\".format(np.unique(pred_most_frequent)))\n",
    "print(\"Test score: {:.2f}\".format(dummy_majority.score(X_test, y_test)))\n",
    "\n",
    "dummy = DummyClassifier().fit(X_train, y_train)\n",
    "pred_dummy = dummy.predict(X_test)\n",
    "print(\"dummy score: {:.2f}\".format(dummy.score(X_test, y_test)))\n",
    "\n",
    "# Predicted values on original testing set\n",
    "pred_RF = grid_search.predict(X_test)\n",
    "\n",
    "from sklearn.metrics import f1_score\n",
    "\n",
    "#comprehensive summary of precision, recall, and f1-score for most frequent, dummy and svc\n",
    "from sklearn.metrics import classification_report\n",
    "print(classification_report(y_test, pred_most_frequent))\n",
    "print(classification_report(y_test, pred_dummy))\n",
    "print(classification_report(y_test, pred_RF))\n",
    "\n",
    "\n",
    "from sklearn.metrics import accuracy_score\n",
    "\n",
    "pred = pred_RF\n",
    "print(\"Accuracy: {:.3f}\".format(accuracy_score(y_test, pred)))\n",
    "\n",
    "#Confusion matrix for the 10-digit classification task\n",
    "scores_image = mglearn.tools.heatmap(\n",
    "    confusion_matrix(y_test, pred), xlabel='Predicted label',\n",
    "    ylabel='True label', xticklabels=['Fail','Pass'],\n",
    "    yticklabels=['Fail','Pass'], cmap=plt.cm.gray_r, fmt=\"%d\")\n",
    "plt.title(\"Confusion matrix\")\n",
    "plt.gca().invert_yaxis()"
   ]
  },
  {
   "cell_type": "code",
   "execution_count": null,
   "metadata": {},
   "outputs": [],
   "source": []
  },
  {
   "cell_type": "code",
   "execution_count": null,
   "metadata": {},
   "outputs": [],
   "source": []
  }
 ],
 "metadata": {
  "kernelspec": {
   "display_name": "Python 3",
   "language": "python",
   "name": "python3"
  },
  "language_info": {
   "codemirror_mode": {
    "name": "ipython",
    "version": 3
   },
   "file_extension": ".py",
   "mimetype": "text/x-python",
   "name": "python",
   "nbconvert_exporter": "python",
   "pygments_lexer": "ipython3",
   "version": "3.7.4"
  }
 },
 "nbformat": 4,
 "nbformat_minor": 2
}
